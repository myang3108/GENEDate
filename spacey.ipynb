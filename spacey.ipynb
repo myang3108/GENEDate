{
 "cells": [
  {
   "cell_type": "code",
   "execution_count": 5,
   "metadata": {},
   "outputs": [],
   "source": [
    "import spacy\n",
    "import numpy as np\n",
    "from nltk.corpus import wordnet as wn\n",
    "\n",
    "# Load English tokenizer, tagger, parser, NER, and word vectors\n",
    "nlp = spacy.load(\"en_core_web_sm\")"
   ]
  },
  {
   "cell_type": "code",
   "execution_count": 6,
   "metadata": {},
   "outputs": [],
   "source": [
    "def preprocess_text(text):\n",
    "    doc = nlp(text)\n",
    "    return [token.text.lower() for token in doc if not token.is_stop and token.is_alpha]\n",
    "\n",
    "# Function to find synonyms of a keyword using WordNet\n",
    "def find_synonyms(keyword):\n",
    "    synonyms = set()\n",
    "    for synset in wn.synsets(keyword):\n",
    "        for lemma in synset.lemmas():\n",
    "            synonyms.add(lemma.name().lower())\n",
    "    return synonyms"
   ]
  },
  {
   "cell_type": "code",
   "execution_count": 7,
   "metadata": {},
   "outputs": [],
   "source": [
    "# Function to calculate cosine similarity\n",
    "def cosine_similarity(vector1, vector2):\n",
    "    dot_product = np.dot(vector1, vector2)\n",
    "    magnitude1 = np.linalg.norm(vector1)\n",
    "    magnitude2 = np.linalg.norm(vector2)\n",
    "    if magnitude1 == 0 or magnitude2 == 0:\n",
    "        return 0  # Handle zero division\n",
    "    return dot_product / (magnitude1 * magnitude2)\n",
    "\n",
    "# Function to calculate similarity between a token and a keyword (or its synonyms)\n",
    "def calculate_similarity(token, keyword):\n",
    "    # Use spaCy's word vectors for token and keyword\n",
    "    token_vector = token.vector\n",
    "    keyword_vector = nlp(keyword).vector\n",
    "    return cosine_similarity(token_vector, keyword_vector)"
   ]
  },
  {
   "cell_type": "code",
   "execution_count": 8,
   "metadata": {},
   "outputs": [],
   "source": [
    "def calculate_similarity_metric(text, keywords):\n",
    "    preprocessed_text = preprocess_text(text)\n",
    "    similarity_scores = []\n",
    "    for token in preprocessed_text:\n",
    "        token_similarity_scores = []\n",
    "        for keyword in keywords:\n",
    "            similarity_score = calculate_similarity(nlp(token), keyword)\n",
    "            token_similarity_scores.append(similarity_score)\n",
    "            synonyms = find_synonyms(keyword)\n",
    "            for synonym in synonyms:\n",
    "                similarity_score = calculate_similarity(nlp(token), synonym)\n",
    "                token_similarity_scores.append(similarity_score)\n",
    "        if token_similarity_scores:\n",
    "            max_similarity_score = max(token_similarity_scores)\n",
    "            similarity_scores.append(max_similarity_score)\n",
    "    if similarity_scores:\n",
    "        # Calculate the average similarity score\n",
    "        similarity_metric = sum(similarity_scores) / len(similarity_scores)\n",
    "        return similarity_metric\n",
    "    else:\n",
    "        return 0"
   ]
  },
  {
   "cell_type": "code",
   "execution_count": 13,
   "metadata": {},
   "outputs": [
    {
     "name": "stdout",
     "output_type": "stream",
     "text": [
      "Similarity metric: 0.7141436517238617\n",
      "Similarity metric: 0.5619395181536675\n"
     ]
    }
   ],
   "source": [
    "# Example usage\n",
    "text = \"\"\"Interdisciplinary introduction to the basic concepts and approaches in Asian American Studies. \n",
    "Surveys the various dimensions of Asian American experiences including history, social organization, literature, arts, and politics.\"\"\"\n",
    "keywords = [\"Asia\", \"Basic\", \"Art\"]\n",
    "\n",
    "similarity_metric = calculate_similarity_metric(text, keywords)\n",
    "print(\"Similarity metric:\", similarity_metric)\n",
    "\n",
    "keywords2 = [\"Asian\", \"Simple\", \"Artistic\"]\n",
    "\n",
    "similarity_metric = calculate_similarity_metric(text, keywords2)\n",
    "print(\"Similarity metric:\", similarity_metric)"
   ]
  },
  {
   "cell_type": "code",
   "execution_count": null,
   "metadata": {},
   "outputs": [],
   "source": []
  }
 ],
 "metadata": {
  "kernelspec": {
   "display_name": "base",
   "language": "python",
   "name": "python3"
  },
  "language_info": {
   "codemirror_mode": {
    "name": "ipython",
    "version": 3
   },
   "file_extension": ".py",
   "mimetype": "text/x-python",
   "name": "python",
   "nbconvert_exporter": "python",
   "pygments_lexer": "ipython3",
   "version": "3.11.5"
  }
 },
 "nbformat": 4,
 "nbformat_minor": 2
}
