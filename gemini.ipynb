{
 "cells": [
  {
   "cell_type": "code",
   "execution_count": 50,
   "metadata": {},
   "outputs": [],
   "source": [
    "import pandas as pd\n",
    "from nltk.tokenize import word_tokenize\n",
    "from nltk.corpus import wordnet as wn\n",
    "from nltk.corpus import stopwords\n",
    "from nltk.stem import PorterStemmer\n",
    "from nltk.stem import SnowballStemmer\n",
    "from sklearn.metrics.pairwise import cosine_similarity\n",
    "import numpy as np\n",
    "from rake_nltk import Rake\n",
    "\n",
    "df = pd.read_csv(\"FinalDF.csv\")\n",
    "\n",
    "# Target keywords\n",
    "target_keywords = [\"race\"]\n",
    "\n",
    "# Initialize Rake for keyword extraction\n",
    "r = Rake()\n",
    "\n",
    "df[\"Similarity Score\"] = \"\""
   ]
  },
  {
   "cell_type": "code",
   "execution_count": 51,
   "metadata": {},
   "outputs": [],
   "source": [
    "# Function to find synonyms of a word using WordNet\n",
    "def find_synonyms(word):\n",
    "        synonyms = set()\n",
    "        for synset in wn.synsets(word):\n",
    "            for lemma in synset.lemmas():\n",
    "                synonyms.add(lemma.name().lower())\n",
    "        return synonyms\n",
    "\n",
    "# Preprocess the keywords and text\n",
    "stop_words = set(stopwords.words('english'))\n",
    "stemmer = SnowballStemmer('english')\n",
    "\n",
    "# Preprocessed target keywords\n",
    "preprocessed_target_keywords = [stemmer.stem(word.lower())[:5] for word in target_keywords if word.lower() not in stop_words]\n",
    "\n",
    "for i in range(df.shape[0]):\n",
    "    text = df.at[i, 'Description']\n",
    "\n",
    "    # Extract keywords from the text using RAKE\n",
    "    r.extract_keywords_from_text(text)\n",
    "    rake_keywords = r.get_ranked_phrases()    \n",
    "\n",
    "    # Preprocessed RAKE keywords\n",
    "    preprocessed_rake_keywords = []\n",
    "    for keyword in rake_keywords:\n",
    "        preprocessed_rake_keywords.extend([stemmer.stem(word.lower())[:5] for word in word_tokenize(keyword) if word.lower() not in stop_words])\n",
    "\n",
    "    # Expand keyword list with synonyms\n",
    "    expanded_keywords = set(preprocessed_rake_keywords)\n",
    "    for keyword in preprocessed_rake_keywords:\n",
    "        synonyms = find_synonyms(keyword)\n",
    "        synonyms = [stemmer.stem(synonym)[:5] for synonym in synonyms]\n",
    "        expanded_keywords.update(synonyms)\n",
    "\n",
    "    #Preprocess the text\n",
    "    preprocessed_text = [stemmer.stem(word.lower())[:5] for word in word_tokenize(text) if word.lower() not in stop_words]\n",
    "\n",
    "    # Create vectors for the text and target keywords\n",
    "    text_vector = np.array([word in preprocessed_text for word in expanded_keywords], dtype=int)\n",
    "    target_vector = np.array([word in preprocessed_target_keywords for word in expanded_keywords], dtype=int)\n",
    "\n",
    "    # Reshape vectors for compatibility\n",
    "    text_vector = text_vector.reshape(1, -1)\n",
    "    target_vector = target_vector.reshape(1, -1)\n",
    "\n",
    "    # Calculate the cosine similarity between the text vector and the target keywords vector\n",
    "    similarity = cosine_similarity(text_vector, target_vector)[0][0]\n",
    "\n",
    "    # print(\"Cosine Similarity Score for the entire text:\", similarity)\n",
    "    df.at[i, 'Similarity Score'] = similarity"
   ]
  },
  {
   "cell_type": "code",
   "execution_count": 52,
   "metadata": {},
   "outputs": [],
   "source": [
    "df = df.loc[~(df['Similarity Score'] == 0)]\n",
    "df =df.sort_values('Similarity Score', ascending=False)\n",
    "df = df.drop_duplicates('Name')\n",
    "df = df.head(1)"
   ]
  },
  {
   "cell_type": "code",
   "execution_count": 53,
   "metadata": {},
   "outputs": [
    {
     "data": {
      "text/html": [
       "<div>\n",
       "<style scoped>\n",
       "    .dataframe tbody tr th:only-of-type {\n",
       "        vertical-align: middle;\n",
       "    }\n",
       "\n",
       "    .dataframe tbody tr th {\n",
       "        vertical-align: top;\n",
       "    }\n",
       "\n",
       "    .dataframe thead th {\n",
       "        text-align: right;\n",
       "    }\n",
       "</style>\n",
       "<table border=\"1\" class=\"dataframe\">\n",
       "  <thead>\n",
       "    <tr style=\"text-align: right;\">\n",
       "      <th></th>\n",
       "      <th>Name</th>\n",
       "      <th>Description</th>\n",
       "      <th>Credit Hours</th>\n",
       "      <th>Degree Attributes</th>\n",
       "      <th>Type</th>\n",
       "      <th>Instructors</th>\n",
       "      <th>Class</th>\n",
       "      <th>ProfRating</th>\n",
       "      <th>GPA</th>\n",
       "      <th>Reddit_Links</th>\n",
       "    </tr>\n",
       "  </thead>\n",
       "  <tbody>\n",
       "    <tr>\n",
       "      <th>353</th>\n",
       "      <td>Leisure and Consumer Culture</td>\n",
       "      <td>Examination of contemporary patterns and meani...</td>\n",
       "      <td>3 hours.</td>\n",
       "      <td>Social &amp; Beh Sci - Soc Sci, and Cultural Studi...</td>\n",
       "      <td>Online</td>\n",
       "      <td>Brooks, C;Santos, C</td>\n",
       "      <td>RST 335</td>\n",
       "      <td>-1.0</td>\n",
       "      <td>3.35491</td>\n",
       "      <td>https://www.reddit.com/r/UIUC/search/?q=RST335...</td>\n",
       "    </tr>\n",
       "  </tbody>\n",
       "</table>\n",
       "</div>"
      ],
      "text/plain": [
       "                             Name  \\\n",
       "353  Leisure and Consumer Culture   \n",
       "\n",
       "                                           Description Credit Hours  \\\n",
       "353  Examination of contemporary patterns and meani...     3 hours.   \n",
       "\n",
       "                                     Degree Attributes    Type  \\\n",
       "353  Social & Beh Sci - Soc Sci, and Cultural Studi...  Online   \n",
       "\n",
       "             Instructors    Class  ProfRating      GPA  \\\n",
       "353  Brooks, C;Santos, C  RST 335        -1.0  3.35491   \n",
       "\n",
       "                                          Reddit_Links  \n",
       "353  https://www.reddit.com/r/UIUC/search/?q=RST335...  "
      ]
     },
     "execution_count": 53,
     "metadata": {},
     "output_type": "execute_result"
    }
   ],
   "source": [
    "df = df.drop(['Similarity Score', 'Unnamed: 0', 'Year', 'Term', 'Subject', 'Number', 'Start Time', 'End Time', 'Days of Week'], axis=1)\n",
    "df"
   ]
  },
  {
   "cell_type": "code",
   "execution_count": 55,
   "metadata": {},
   "outputs": [
    {
     "data": {
      "text/plain": [
       "'{\"Name\":{\"353\":\"Leisure and Consumer Culture\"},\"Description\":{\"353\":\"Examination of contemporary patterns and meanings of leisure in a consumer society. Understanding of the impact of consumption on expressions of identity, gender, social class, race and ethnicity.\"},\"Credit Hours\":{\"353\":\"3 hours.\"},\"Degree Attributes\":{\"353\":\"Social & Beh Sci - Soc Sci, and Cultural Studies - Western course.\"},\"Type\":{\"353\":\"Online\"},\"Instructors\":{\"353\":\"Brooks, C;Santos, C\"},\"Class\":{\"353\":\"RST 335\"},\"ProfRating\":{\"353\":-1.0},\"GPA\":{\"353\":3.3549100257},\"Reddit_Links\":{\"353\":\"https:\\\\/\\\\/www.reddit.com\\\\/r\\\\/UIUC\\\\/search\\\\/?q=RST335&type=link&cId=b32ceb77-1b8c-40e5-8b34-d2b4fec8c4b6&iId=bfd40497-f1e5-4941-9509-aa6fccd80b9e\"}}'"
      ]
     },
     "execution_count": 55,
     "metadata": {},
     "output_type": "execute_result"
    }
   ],
   "source": [
    "json = df.to_json()\n",
    "json"
   ]
  },
  {
   "cell_type": "code",
   "execution_count": null,
   "metadata": {},
   "outputs": [],
   "source": []
  },
  {
   "cell_type": "code",
   "execution_count": null,
   "metadata": {},
   "outputs": [],
   "source": []
  }
 ],
 "metadata": {
  "kernelspec": {
   "display_name": "base",
   "language": "python",
   "name": "python3"
  },
  "language_info": {
   "codemirror_mode": {
    "name": "ipython",
    "version": 3
   },
   "file_extension": ".py",
   "mimetype": "text/x-python",
   "name": "python",
   "nbconvert_exporter": "python",
   "pygments_lexer": "ipython3",
   "version": "3.11.5"
  }
 },
 "nbformat": 4,
 "nbformat_minor": 2
}
